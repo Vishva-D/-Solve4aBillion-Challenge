{
  "nbformat": 4,
  "nbformat_minor": 0,
  "metadata": {
    "colab": {
      "name": "html integration.ipynb",
      "provenance": [],
      "include_colab_link": true
    },
    "kernelspec": {
      "display_name": "Python 3",
      "language": "python",
      "name": "python3"
    },
    "language_info": {
      "codemirror_mode": {
        "name": "ipython",
        "version": 3
      },
      "file_extension": ".py",
      "mimetype": "text/x-python",
      "name": "python",
      "nbconvert_exporter": "python",
      "pygments_lexer": "ipython3",
      "version": "3.8.2"
    }
  },
  "cells": [
    {
      "cell_type": "markdown",
      "metadata": {
        "id": "view-in-github",
        "colab_type": "text"
      },
      "source": [
        "<a href=\"https://colab.research.google.com/github/Vishva-D/-Solve4aBillion-Challenge/blob/main/html_integration.ipynb\" target=\"_parent\"><img src=\"https://colab.research.google.com/assets/colab-badge.svg\" alt=\"Open In Colab\"/></a>"
      ]
    },
    {
      "cell_type": "markdown",
      "metadata": {
        "id": "z0EmFl5-sDYt"
      },
      "source": [
        "# State-wise COVID-19 Tracker | India\n",
        "#### Visualisation of Choropleth map to show the details of COVID-19 cases for Indian states and union territories. It displays - total cases, active cases, and total deaths in each Indian state. We tried to render a map that is as interactive as possible, however if you've got some suggestions for us then please let us know by the issues tab of this repo."
      ]
    },
    {
      "cell_type": "markdown",
      "metadata": {
        "id": "ZW9FZYwPsDZN"
      },
      "source": [
        "### Importing required modules/libraries"
      ]
    },
    {
      "cell_type": "code",
      "metadata": {
        "id": "3xHnZxVdsDZO"
      },
      "source": [
        "import folium as flm\n",
        "from folium import plugins\n",
        "import pandas as pd\n",
        "import json\n",
        "import requests"
      ],
      "execution_count": null,
      "outputs": []
    },
    {
      "cell_type": "markdown",
      "metadata": {
        "id": "bdJwUC8msDZP"
      },
      "source": [
        "### Loading Geo-JSON data\n",
        "This data consists of co-ordinates which is used to plot the map."
      ]
    },
    {
      "cell_type": "code",
      "metadata": {
        "id": "swId1_h_sDZQ"
      },
      "source": [
        "with open(r'/content/drive/MyDrive/Indian_States.json') as f:\n",
        "    geojson_states = json.load(f)"
      ],
      "execution_count": null,
      "outputs": []
    },
    {
      "cell_type": "markdown",
      "metadata": {
        "id": "0zj8okKPsDZQ"
      },
      "source": [
        "### Assigning name of states to a key called 'id'"
      ]
    },
    {
      "cell_type": "code",
      "metadata": {
        "id": "hsjsbJ3DsDZR"
      },
      "source": [
        "for i in geojson_states['features']:\n",
        "    i['id'] = i['properties']['NAME_1']"
      ],
      "execution_count": null,
      "outputs": []
    },
    {
      "cell_type": "markdown",
      "metadata": {
        "id": "VejP4pJksDZS"
      },
      "source": [
        "### Requesting data from API"
      ]
    },
    {
      "cell_type": "code",
      "metadata": {
        "id": "_wT6u6pksDZS"
      },
      "source": [
        "res = requests.get('https://api.covid19india.org/data.json')\n",
        "covid_current = res.json()\n",
        "df = []"
      ],
      "execution_count": null,
      "outputs": []
    },
    {
      "cell_type": "markdown",
      "metadata": {
        "id": "UtFiOSE0sDZT"
      },
      "source": [
        "### Filtering data for a better understanding\n",
        "Such as renaming columns: 'state' to 'State', 'confirmed' to 'Total Case' and so on."
      ]
    },
    {
      "cell_type": "code",
      "metadata": {
        "id": "7Si8TKcVz-Xp"
      },
      "source": [
        ""
      ],
      "execution_count": null,
      "outputs": []
    },
    {
      "cell_type": "code",
      "metadata": {
        "colab": {
          "base_uri": "https://localhost:8080/",
          "height": 195
        },
        "id": "qt2NbLupsDZU",
        "outputId": "477e5fcb-d39f-4e9d-821b-6f05606c45c0"
      },
      "source": [
        "for j in range(1, 37):\n",
        "    if(covid_current['statewise'][j]['state'] != 'State Unassigned'):\n",
        "        df.append([covid_current['statewise'][j]['state'],\n",
        "                covid_current['statewise'][j]['confirmed'],\n",
        "                covid_current['statewise'][j]['active'],\n",
        "                covid_current['statewise'][j]['deaths'],\n",
        "                ])\n",
        "        df_covid = pd.DataFrame(df, columns=['State', 'Total Case', 'Active Case', 'Deaths'])\n",
        "\n",
        "df_covid.head(5)"
      ],
      "execution_count": null,
      "outputs": [
        {
          "output_type": "execute_result",
          "data": {
            "text/html": [
              "<div>\n",
              "<style scoped>\n",
              "    .dataframe tbody tr th:only-of-type {\n",
              "        vertical-align: middle;\n",
              "    }\n",
              "\n",
              "    .dataframe tbody tr th {\n",
              "        vertical-align: top;\n",
              "    }\n",
              "\n",
              "    .dataframe thead th {\n",
              "        text-align: right;\n",
              "    }\n",
              "</style>\n",
              "<table border=\"1\" class=\"dataframe\">\n",
              "  <thead>\n",
              "    <tr style=\"text-align: right;\">\n",
              "      <th></th>\n",
              "      <th>State</th>\n",
              "      <th>Total Case</th>\n",
              "      <th>Active Case</th>\n",
              "      <th>Deaths</th>\n",
              "    </tr>\n",
              "  </thead>\n",
              "  <tbody>\n",
              "    <tr>\n",
              "      <th>0</th>\n",
              "      <td>Maharashtra</td>\n",
              "      <td>1950171</td>\n",
              "      <td>49067</td>\n",
              "      <td>49759</td>\n",
              "    </tr>\n",
              "    <tr>\n",
              "      <th>1</th>\n",
              "      <td>Karnataka</td>\n",
              "      <td>923353</td>\n",
              "      <td>9637</td>\n",
              "      <td>12118</td>\n",
              "    </tr>\n",
              "    <tr>\n",
              "      <th>2</th>\n",
              "      <td>Andhra Pradesh</td>\n",
              "      <td>883587</td>\n",
              "      <td>3038</td>\n",
              "      <td>7122</td>\n",
              "    </tr>\n",
              "    <tr>\n",
              "      <th>3</th>\n",
              "      <td>Tamil Nadu</td>\n",
              "      <td>822370</td>\n",
              "      <td>7808</td>\n",
              "      <td>12177</td>\n",
              "    </tr>\n",
              "    <tr>\n",
              "      <th>4</th>\n",
              "      <td>Kerala</td>\n",
              "      <td>784489</td>\n",
              "      <td>63800</td>\n",
              "      <td>3185</td>\n",
              "    </tr>\n",
              "  </tbody>\n",
              "</table>\n",
              "</div>"
            ],
            "text/plain": [
              "            State Total Case Active Case Deaths\n",
              "0     Maharashtra    1950171       49067  49759\n",
              "1       Karnataka     923353        9637  12118\n",
              "2  Andhra Pradesh     883587        3038   7122\n",
              "3      Tamil Nadu     822370        7808  12177\n",
              "4          Kerala     784489       63800   3185"
            ]
          },
          "metadata": {
            "tags": []
          },
          "execution_count": 10
        }
      ]
    },
    {
      "cell_type": "markdown",
      "metadata": {
        "id": "ud4AbOHisDZW"
      },
      "source": [
        "### Filtering fetched data\n",
        "Sorting data by states' name and renaming records to match with those in Geo-JSON file. For example, we changed data at index 7 to 'Dadra and Nagar Haveli' so that it can match with the data in Geo-JSON file. Initially, it was named as 'Daman and Diu Dadra and Nagar Haveli'."
      ]
    },
    {
      "cell_type": "code",
      "metadata": {
        "colab": {
          "base_uri": "https://localhost:8080/",
          "height": 195
        },
        "id": "dKUQtWOYsDZX",
        "outputId": "72703121-bc2a-4d0a-b721-d84f557fb2be"
      },
      "source": [
        "df_covid = df_covid.sort_values('State', axis=0)\n",
        "df_covid = df_covid.reset_index(drop=True)\n",
        "\n",
        "df_covid['State'].iloc[7] = 'Dadra and Nagar Haveli'\n",
        "\n",
        "df_covid.head(5)"
      ],
      "execution_count": null,
      "outputs": [
        {
          "output_type": "execute_result",
          "data": {
            "text/html": [
              "<div>\n",
              "<style scoped>\n",
              "    .dataframe tbody tr th:only-of-type {\n",
              "        vertical-align: middle;\n",
              "    }\n",
              "\n",
              "    .dataframe tbody tr th {\n",
              "        vertical-align: top;\n",
              "    }\n",
              "\n",
              "    .dataframe thead th {\n",
              "        text-align: right;\n",
              "    }\n",
              "</style>\n",
              "<table border=\"1\" class=\"dataframe\">\n",
              "  <thead>\n",
              "    <tr style=\"text-align: right;\">\n",
              "      <th></th>\n",
              "      <th>State</th>\n",
              "      <th>Total Case</th>\n",
              "      <th>Active Case</th>\n",
              "      <th>Deaths</th>\n",
              "    </tr>\n",
              "  </thead>\n",
              "  <tbody>\n",
              "    <tr>\n",
              "      <th>0</th>\n",
              "      <td>Andaman and Nicobar Islands</td>\n",
              "      <td>4948</td>\n",
              "      <td>38</td>\n",
              "      <td>62</td>\n",
              "    </tr>\n",
              "    <tr>\n",
              "      <th>1</th>\n",
              "      <td>Andhra Pradesh</td>\n",
              "      <td>883587</td>\n",
              "      <td>3038</td>\n",
              "      <td>7122</td>\n",
              "    </tr>\n",
              "    <tr>\n",
              "      <th>2</th>\n",
              "      <td>Arunachal Pradesh</td>\n",
              "      <td>16744</td>\n",
              "      <td>79</td>\n",
              "      <td>56</td>\n",
              "    </tr>\n",
              "    <tr>\n",
              "      <th>3</th>\n",
              "      <td>Assam</td>\n",
              "      <td>216381</td>\n",
              "      <td>1728</td>\n",
              "      <td>1057</td>\n",
              "    </tr>\n",
              "    <tr>\n",
              "      <th>4</th>\n",
              "      <td>Bihar</td>\n",
              "      <td>254689</td>\n",
              "      <td>4177</td>\n",
              "      <td>1415</td>\n",
              "    </tr>\n",
              "  </tbody>\n",
              "</table>\n",
              "</div>"
            ],
            "text/plain": [
              "                         State Total Case Active Case Deaths\n",
              "0  Andaman and Nicobar Islands       4948          38     62\n",
              "1               Andhra Pradesh     883587        3038   7122\n",
              "2            Arunachal Pradesh      16744          79     56\n",
              "3                        Assam     216381        1728   1057\n",
              "4                        Bihar     254689        4177   1415"
            ]
          },
          "metadata": {
            "tags": []
          },
          "execution_count": 11
        }
      ]
    },
    {
      "cell_type": "code",
      "metadata": {
        "colab": {
          "base_uri": "https://localhost:8080/"
        },
        "id": "JgOXgvCTxiwD",
        "outputId": "c721c59b-c61f-46b6-afff-09066df8f12a"
      },
      "source": [
        "from google.colab import drive\n",
        "drive.mount('/content/drive')"
      ],
      "execution_count": null,
      "outputs": [
        {
          "output_type": "stream",
          "text": [
            "Drive already mounted at /content/drive; to attempt to forcibly remount, call drive.mount(\"/content/drive\", force_remount=True).\n"
          ],
          "name": "stdout"
        }
      ]
    },
    {
      "cell_type": "markdown",
      "metadata": {
        "id": "JB_P-E2zsDZY"
      },
      "source": [
        "### Exporting data to a CSV file"
      ]
    },
    {
      "cell_type": "code",
      "metadata": {
        "colab": {
          "base_uri": "https://localhost:8080/"
        },
        "id": "oZKYvR1EsDZZ",
        "outputId": "c59061c6-2651-4a15-e6f3-81fdcf6a5a24"
      },
      "source": [
        "#Q!mkfile t.csv\r\n",
        "!pwd\r\n",
        "df_covid.to_csv('/content/TotalCase.csv')"
      ],
      "execution_count": null,
      "outputs": [
        {
          "output_type": "stream",
          "text": [
            "/content\n"
          ],
          "name": "stdout"
        }
      ]
    },
    {
      "cell_type": "markdown",
      "metadata": {
        "id": "3xV2oedCsDZZ"
      },
      "source": [
        "### Reading CSV file for easier references"
      ]
    },
    {
      "cell_type": "code",
      "metadata": {
        "id": "_Tg2y_hfsDZa"
      },
      "source": [
        "pop_df = pd.read_csv('/content/TotalCase.csv')"
      ],
      "execution_count": null,
      "outputs": []
    },
    {
      "cell_type": "markdown",
      "metadata": {
        "id": "mn_RIQxBsDZa"
      },
      "source": [
        "### Adding fetched data from API to Geo-JSON file for later use"
      ]
    },
    {
      "cell_type": "code",
      "metadata": {
        "id": "kv-aL0hUsDZb"
      },
      "source": [
        "for i in range(35):\n",
        "    if((geojson_states['features'][i]['properties']['NAME_1']) == (df_covid['State'][i])):\n",
        "        geojson_states['features'][i]['properties']['total_case'] = df_covid['Total Case'][i]\n",
        "        geojson_states['features'][i]['properties']['active_case'] = df_covid['Active Case'][i]\n",
        "        geojson_states['features'][i]['properties']['total_deaths'] = df_covid['Deaths'][i]     "
      ],
      "execution_count": null,
      "outputs": []
    },
    {
      "cell_type": "markdown",
      "metadata": {
        "id": "_wv6rXBasDZc"
      },
      "source": [
        "### Creating a Folium Map Object"
      ]
    },
    {
      "cell_type": "code",
      "metadata": {
        "colab": {
          "base_uri": "https://localhost:8080/",
          "height": 685
        },
        "id": "--gYokmfsDZc",
        "outputId": "164e38c3-aa9e-4443-9099-3df790783009"
      },
      "source": [
        "map1 = flm.Map(location=[20.5937,78.9629], zoom_start=4, tiles='Mapbox Bright')\n",
        "\n",
        "map1"
      ],
      "execution_count": null,
      "outputs": [
        {
          "output_type": "execute_result",
          "data": {
            "text/html": [
              "<div style=\"width:100%;\"><div style=\"position:relative;width:100%;height:0;padding-bottom:60%;\"><span style=\"color:#565656\">Make this Notebook Trusted to load map: File -> Trust Notebook</span><iframe src=\"about:blank\" style=\"position:absolute;width:100%;height:100%;left:0;top:0;border:none !important;\" data-html=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 onload=\"this.contentDocument.open();this.contentDocument.write(atob(this.getAttribute('data-html')));this.contentDocument.close();\" allowfullscreen webkitallowfullscreen mozallowfullscreen></iframe></div></div>"
            ],
            "text/plain": [
              "<folium.folium.Map at 0x7f39c120d390>"
            ]
          },
          "metadata": {
            "tags": []
          },
          "execution_count": 27
        }
      ]
    },
    {
      "cell_type": "markdown",
      "metadata": {
        "id": "091BiM13sDZd"
      },
      "source": [
        "### Adding more tiles to the map"
      ]
    },
    {
      "cell_type": "code",
      "metadata": {
        "id": "x2EU-PO2sDZd"
      },
      "source": [
        "tiles = ['stamenwatercolor', 'cartodbpositron', 'openstreetmap', 'stamenterrain']\n",
        "for tile in tiles:\n",
        "    flm.TileLayer(tile).add_to(map1)"
      ],
      "execution_count": null,
      "outputs": []
    },
    {
      "cell_type": "markdown",
      "metadata": {
        "id": "8AAkHxAGsDZe"
      },
      "source": [
        "### Providing required data to the map for plotting\n",
        "This is the most important step. Here we need to tell the map about the data - the Geo-JSON data and the data to be represented on the Geo-JSON data (i.e., COVID-19 data). We need to be very careful with the 'key_on' feature. (You can read more about them in the links provided at the end of this document)."
      ]
    },
    {
      "cell_type": "code",
      "metadata": {
        "colab": {
          "background_save": true
        },
        "id": "Gu4a38aQsDZe",
        "outputId": "3a9a6f6e-d0de-4e12-8b2a-723f02062dff"
      },
      "source": [
        "choropleth = flm.Choropleth(\n",
        "    geo_data=geojson_states,\n",
        "    name='Total Case',\n",
        "    data=pop_df,\n",
        "    columns=['State', 'Total Case'],\n",
        "    key_on='feature.id',\n",
        "    fill_color='Set2',\n",
        "    fill_opacity=0.5,\n",
        "    line_opacity=0.5,\n",
        "    nan_fill_color='white',\n",
        "    nan_fill_opacity=1, \n",
        "    line_weight=0.8,\n",
        "    highlight=True,\n",
        "    legend_name='State-wise COVID-19 Cases in INDIA',\n",
        "\treset=True\n",
        "    ).add_to(map1)\n",
        "\n",
        "map1"
      ],
      "execution_count": null,
      "outputs": []
    },
    {
      "cell_type": "markdown",
      "metadata": {
        "id": "vdOhvtGRsDZf"
      },
      "source": [
        "### Adding some styling functions"
      ]
    },
    {
      "cell_type": "code",
      "metadata": {
        "id": "dbgrE_SisDZg"
      },
      "source": [
        "style_function = \"font-size: 12px; font-weight: bold\"\n",
        "choropleth.geojson.add_child(\n",
        "    flm.features.GeoJsonTooltip(fields=['NAME_1','total_case','active_case','total_deaths',], aliases=['State', 'Total Case', 'Active', 'Deaths'], lables=True, sticky=True, toLocaleString=True, style=style_function))"
      ],
      "execution_count": null,
      "outputs": []
    },
    {
      "cell_type": "markdown",
      "metadata": {
        "id": "B_1nc3m6sDZg"
      },
      "source": [
        "### Adding all the layers to map"
      ]
    },
    {
      "cell_type": "code",
      "metadata": {
        "id": "UVNxLJJnsDZh"
      },
      "source": [
        "flm.LayerControl().add_to(map1)"
      ],
      "execution_count": null,
      "outputs": []
    },
    {
      "cell_type": "markdown",
      "metadata": {
        "id": "Ow519sefsDZh"
      },
      "source": [
        "### Finally rendering the map"
      ]
    },
    {
      "cell_type": "code",
      "metadata": {
        "colab": {
          "background_save": true
        },
        "id": "CLtnwYy4sDZi",
        "outputId": "91d89fb3-5c78-47e9-be55-55d54d9e5ad5"
      },
      "source": [
        "map1.save('IndianMap.html')\n",
        "map1"
      ],
      "execution_count": null,
      "outputs": []
    }
  ]
}